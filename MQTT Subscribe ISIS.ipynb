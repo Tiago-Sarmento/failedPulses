{
 "cells": [
  {
   "cell_type": "code",
   "execution_count": 3,
   "metadata": {},
   "outputs": [
    {
     "data": {
      "text/plain": [
       "True"
      ]
     },
     "execution_count": 3,
     "metadata": {},
     "output_type": "execute_result"
    }
   ],
   "source": [
    "1 != 2\n"
   ]
  },
  {
   "cell_type": "code",
   "execution_count": null,
   "metadata": {},
   "outputs": [],
   "source": [
    "import paho.mqtt.client as mqtt\n",
    "import time\n",
    "import dateutil.parser as dparser\n",
    "import paho.mqtt.subscribe as subscribe\n",
    "import json\n",
    "#msg = subscribe.simple(\"vista/set/test2/an_int/value\", hostname=\"icxparrot.isis.rl.ac.uk\", auth={'username':'controls', 'password':'controls'})\n",
    "value = 0\n",
    "oldValue = -1\n",
    "while True:\n",
    "    msg = subscribe.simple(\"Tiago/ISIS/vals\", hostname=\"icxparrot.isis.rl.ac.uk\")\n",
    "    f = open(\"failedPulsesISISTwoSec.txt\", \"a+\")\n",
    "    msgstr = str(msg.payload.decode('utf-8'))\n",
    "    value = json.loads(msgstr)['value']\n",
    "    if value != oldValue:\n",
    "        f.write( msgstr +\"\\r\") # Able to handle \n",
    "        oldValue = value\n",
    "    f.close() "
   ]
  },
  {
   "cell_type": "code",
   "execution_count": null,
   "metadata": {
    "scrolled": true
   },
   "outputs": [
    {
     "name": "stdout",
     "output_type": "stream",
     "text": [
      "Creating new client instance...\n",
      "Connecting to broker...\n",
      "Subscribing to topic: \"vista/set/test2/an_int/values\"\n",
      "finished subscribing\n"
     ]
    }
   ],
   "source": [
    "\n",
    "def on_message(client, user_data, message):\n",
    "    \"\"\"\n",
    "    Message event callback that is asynchronously triggered during the client\n",
    "    loop. This function decodes the MQTT message payload bytes using utf-8\n",
    "    encoding. It then prints the resulting message string to the console with\n",
    "    the associated MQTT topic.\n",
    "    \"\"\"\n",
    "    #print('Received message:', '\"'+str(message.payload.decode('utf-8'))+'\"', end=' ')\n",
    "    #print('in topic:', '\"'+message.topic+'\"')\n",
    "    \n",
    "    #dtime = dparser.parse(message.payload.decode('utf-8'),fuzzy=True)\n",
    "    f = open(\"failedPulsesISIS.txt\", \"a+\")\n",
    "    f.write(str(message.payload.decode('utf-8')) +\"\\r\") # Able to handle \n",
    "    f.close() \n",
    "    \n",
    "    return message.topic\n",
    "\n",
    "\n",
    "\n",
    "# Define MQTT broker address and topic name\n",
    "broker_address = 'icxparrot.isis.rl.ac.uk'\n",
    "topic_name = 'vista/set/test2/an_int/values'\n",
    "\n",
    "# Create MQTT subscriber client instance and assign the 'on_message' function\n",
    "# to the callback. Callbacks are functions that are called in response to an\n",
    "# event.\n",
    "print('Creating new client instance...')\n",
    "client = mqtt.Client('sub_client')\n",
    "client.on_message = on_message\n",
    "\n",
    "# Connect to MQTT broker\n",
    "print('Connecting to broker...')\n",
    "client.connect(broker_address)\n",
    "\n",
    "# Subscribe to topic\n",
    "print('Subscribing to topic:', '\"'+topic_name+'\"')\n",
    "client.subscribe(topic_name)\n",
    "print(\"finished subscribing\")\n",
    "# Begin client loop in seperate thread and run to infinity and beyond!\n",
    "client.loop_forever()"
   ]
  },
  {
   "cell_type": "code",
   "execution_count": 7,
   "metadata": {},
   "outputs": [
    {
     "data": {
      "text/plain": [
       "1573207245.9690123"
      ]
     },
     "execution_count": 7,
     "metadata": {},
     "output_type": "execute_result"
    }
   ],
   "source": [
    ">>> import ntplib\n",
    ">>> from time import ctime\n",
    ">>> c = ntplib.NTPClient()\n",
    ">>> response = c.request('hugin.isis.rl.ac.uk', version=3)\n",
    "#>>> response.offset\n",
    "\n",
    "#>>> response.version\n",
    " \n",
    ">>> ctime(response.tx_time)\n",
    "response.tx_time\n",
    "#>>> ntplib.leap_to_text(response.leap)\n",
    "\n",
    "#>>> response.root_delay\n",
    "\n",
    "#>>> ntplib.ref_id_to_text(response.ref_id)\n"
   ]
  },
  {
   "cell_type": "code",
   "execution_count": 3,
   "metadata": {},
   "outputs": [
    {
     "name": "stdout",
     "output_type": "stream",
     "text": [
      "[\"apple\", \"bananas\"]\n",
      "[\"apple\", \"bananas\"]\n",
      "\"hello\"\n",
      "42\n",
      "31.76\n",
      "true\n",
      "false\n",
      "null\n"
     ]
    }
   ],
   "source": [
    "import json\n",
    "\n",
    "a = json.dumps({\"value\": 100, \"messageid\": \"1345\", \"timestamp\": 1573228448.7306087})\n",
    "print(json.dumps([\"apple\", \"bananas\"]))\n",
    "print(json.dumps((\"apple\", \"bananas\")))\n",
    "print(json.dumps(\"hello\"))\n",
    "print(json.dumps(42))\n",
    "print(json.dumps(31.76))\n",
    "print(json.dumps(True))\n",
    "print(json.dumps(False))\n",
    "print(json.dumps(None))"
   ]
  },
  {
   "cell_type": "code",
   "execution_count": 6,
   "metadata": {},
   "outputs": [
    {
     "data": {
      "text/plain": [
       "'{\"value\": 100, \"messageid\": \"1345\", \"timestamp\": 1573228448.7306087}'"
      ]
     },
     "execution_count": 6,
     "metadata": {},
     "output_type": "execute_result"
    }
   ],
   "source": [
    "a"
   ]
  },
  {
   "cell_type": "code",
   "execution_count": null,
   "metadata": {},
   "outputs": [],
   "source": []
  }
 ],
 "metadata": {
  "kernelspec": {
   "display_name": "Python 3",
   "language": "python",
   "name": "python3"
  },
  "language_info": {
   "codemirror_mode": {
    "name": "ipython",
    "version": 3
   },
   "file_extension": ".py",
   "mimetype": "text/x-python",
   "name": "python",
   "nbconvert_exporter": "python",
   "pygments_lexer": "ipython3",
   "version": "3.7.0"
  }
 },
 "nbformat": 4,
 "nbformat_minor": 2
}
