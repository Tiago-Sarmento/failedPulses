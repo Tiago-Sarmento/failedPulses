{
 "cells": [
  {
   "cell_type": "code",
   "execution_count": 10,
   "metadata": {},
   "outputs": [
    {
     "name": "stdout",
     "output_type": "stream",
     "text": [
      "Creating new client instance...\n",
      "Subscribing to topic: \"heating\"\n",
      ": \"more interesting33\"\n",
      "Received message: \"more interesting33\" in topic: \"heating\"\n"
     ]
    },
    {
     "data": {
      "text/plain": [
       "0.0009975433349609375"
      ]
     },
     "execution_count": 10,
     "metadata": {},
     "output_type": "execute_result"
    }
   ],
   "source": [
    "import json\n",
    "import paho.mqtt.client as mqtt\n",
    "import time\n",
    "import sys\n",
    "\n",
    "def on_message(client, user_data, message):\n",
    "    \"\"\"\n",
    "    Message event callback that is asynchronously triggered during the client\n",
    "    loop. This function decodes the MQTT message payload bytes using utf-8\n",
    "    encoding. It then prints the resulting message string to the console with\n",
    "    the associated MQTT topic.\n",
    "    \"\"\"\n",
    "    print('Received message:', '\"'+str(message.payload.decode('utf-8'))+'\"', end=' ')\n",
    "    print('in topic:', '\"'+message.topic+'\"')\n",
    "\n",
    "# Retrieve message from command line argument\n",
    "message = \"more interesting33\"\n",
    "\n",
    "# Define MQTT broker address and topic name\n",
    "broker_address = 'hugin.isis.rl.ac.uk'\n",
    "topic_name = 'vista/values/Testing'\n",
    "\n",
    "# Create MQTT publisher client instance and assign the 'on_message' function to\n",
    "# the callback. Callbacks are functions that are called in response to an event.\n",
    "print('Creating new client instance...')\n",
    "client = mqtt.Client('pub_client')\n",
    "client.on_message = on_message\n",
    "\n",
    "# Connect to MQTT broker\n",
    "#print('Connecting to broker...')\n",
    "client.connect(broker_address)\n",
    "\n",
    "# Begin client loop in seperate thread\n",
    "client.loop_start()\n",
    "\n",
    "# Subscribe to topic\n",
    "print('Subscribing to topic:', '\"'+topic_name+'\"')\n",
    "client.subscribe(topic_name)\n",
    "\n",
    "\n",
    "t0 = time.time()\n",
    "# Pubish message to topic\n",
    "print(':', '\"'+message+'\"')\n",
    "client.publish(topic_name, message)\n",
    "t1 = time.time()\n",
    "\n",
    "\n",
    "# Wait to recieve Message\n",
    "time.sleep(1)\n",
    "\n",
    "# End client loop\n",
    "client.loop_stop()\n",
    "t1 - t0"
   ]
  },
  {
   "cell_type": "code",
   "execution_count": 19,
   "metadata": {},
   "outputs": [],
   "source": [
    "import json, time\n",
    "import paho.mqtt.publish as publish\n",
    "\n",
    "msgjson = json.dumps({\"value\": 77, \"messageid\":\"1345\", \"timestamp\":time.time()})\n",
    "\n",
    "publish.single('aTop', msgjson,\n",
    "            hostname='icxparrot.isis.rl.ac.uk',port=1883,\n",
    "            client_id='vista_pub_synctest2',\n",
    "            auth={'username':'controsls', 'password':'controslss'})\n"
   ]
  },
  {
   "cell_type": "code",
   "execution_count": null,
   "metadata": {},
   "outputs": [
    {
     "name": "stdout",
     "output_type": "stream",
     "text": [
      "Creating new client instance...\n",
      "Connecting to broker...\n",
      "Subscribing to topic: \"vista/set/test2/an_int/value\"\n",
      "finished subscribing\n"
     ]
    }
   ],
   "source": [
    "import paho.mqtt.client as mqtt\n",
    "import time\n",
    "import dateutil.parser as dparser\n",
    "import json\n",
    "\n",
    "def on_message(client, user_data, message):\n",
    "    \"\"\"\n",
    "    Message event callback that is asynchronously triggered during the client\n",
    "    loop. This function decodes the MQTT message payload bytes using utf-8\n",
    "    encoding. It then prints the resulting message string to the console with\n",
    "    the associated MQTT topic.\n",
    "    \"\"\"\n",
    "#     print('Received message:', '\"'+str(message.payload.decode('utf-8'))+'\"', end=' ')\n",
    "#     print('in topic:', '\"'+message.topic+'\"')\n",
    "    \n",
    "    #dtime = dparser.parse(message.payload.decode('utf-8'),fuzzy=True)\n",
    "    f = open(\"failedPulses.txt\", \"a+\")\n",
    "    f.write(str(message.payload.decode('utf-8')) +\"\\r\") # Able to handle \n",
    "    f.close() \n",
    "    \n",
    "    return message.topic\n",
    "\n",
    "\n",
    "\n",
    "# Define MQTT broker address and topic name\n",
    "broker_address = 'icxparrot.isis.rl.ac.uk'\n",
    "topic_name = 'vista/set/test2/an_int/value'\n",
    "\n",
    "# Create MQTT subscriber client instance and assign the 'on_message' function\n",
    "# to the callback. Callbacks are functions that are called in response to an\n",
    "# event.\n",
    "print('Creating new client instance...')\n",
    "client = mqtt.Client('sub_client')\n",
    "client.on_message = on_message\n",
    "\n",
    "# Connect to MQTT broker\n",
    "print('Connecting to broker...')\n",
    "client.connect(broker_address)\n",
    "\n",
    "# Subscribe to topic\n",
    "print('Subscribing to topic:', '\"'+topic_name+'\"')\n",
    "client.subscribe(topic_name)\n",
    "print(\"finished subscribing\")\n",
    "# Begin client loop in seperate thread and run to infinity and beyond!\n",
    "client.loop_forever()"
   ]
  },
  {
   "cell_type": "code",
   "execution_count": null,
   "metadata": {},
   "outputs": [],
   "source": []
  }
 ],
 "metadata": {
  "kernelspec": {
   "display_name": "Python 3",
   "language": "python",
   "name": "python3"
  },
  "language_info": {
   "codemirror_mode": {
    "name": "ipython",
    "version": 3
   },
   "file_extension": ".py",
   "mimetype": "text/x-python",
   "name": "python",
   "nbconvert_exporter": "python",
   "pygments_lexer": "ipython3",
   "version": "3.7.0"
  }
 },
 "nbformat": 4,
 "nbformat_minor": 2
}
