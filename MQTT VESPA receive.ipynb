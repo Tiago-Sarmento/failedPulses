{
 "cells": [
  {
   "cell_type": "code",
   "execution_count": null,
   "metadata": {},
   "outputs": [],
   "source": [
    "import paho.mqtt.client as mqtt\n",
    "import time\n",
    "import dateutil.parser as dparser\n",
    "import paho.mqtt.subscribe as subscribe\n",
    "#msg = subscribe.simple(\"vista/set/test2/an_int/value\", hostname=\"icxparrot.isis.rl.ac.uk\", auth={'username':'controls', 'password':'controls'})\n",
    "\n",
    "while True:\n",
    "    msg = subscribe.simple(\"Tiago/VESPA/vals\", hostname=\"icxparrot.isis.rl.ac.uk\")\n",
    "    f = open(\"failedPulsesVESPA.txt\", \"a+\")\n",
    "    f.write(str(msg.payload.decode('utf-8')) +\"\\r\") # Able to handle \n",
    "    f.close() "
   ]
  },
  {
   "cell_type": "code",
   "execution_count": null,
   "metadata": {},
   "outputs": [],
   "source": []
  }
 ],
 "metadata": {
  "kernelspec": {
   "display_name": "Python 3",
   "language": "python",
   "name": "python3"
  },
  "language_info": {
   "codemirror_mode": {
    "name": "ipython",
    "version": 3
   },
   "file_extension": ".py",
   "mimetype": "text/x-python",
   "name": "python",
   "nbconvert_exporter": "python",
   "pygments_lexer": "ipython3",
   "version": "3.7.0"
  }
 },
 "nbformat": 4,
 "nbformat_minor": 2
}
