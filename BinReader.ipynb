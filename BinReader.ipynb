{
 "cells": [
  {
   "cell_type": "code",
   "execution_count": 36,
   "metadata": {
    "scrolled": true
   },
   "outputs": [
    {
     "name": "stderr",
     "output_type": "stream",
     "text": [
      "C:\\Users\\xye15941\\AppData\\Local\\Continuum\\anaconda3\\lib\\site-packages\\IPython\\core\\interactiveshell.py:2961: UserWarning: Discarding nonzero nanoseconds in conversion\n",
      "  exec(code_obj, self.user_global_ns, self.user_ns)\n"
     ]
    }
   ],
   "source": [
    "%matplotlib qt\n",
    "import numpy as np\n",
    "from datetime import datetime, timedelta\n",
    "import pandas as pd\n",
    "import json\n",
    "import matplotlib.pyplot as plt\n",
    "\n",
    "countDb = pd.read_json(\"failedPulsesISISTwoSec.txt\",lines=True)\n",
    "\n",
    "newLines = []\n",
    "prevLine = countDb.loc[1]\n",
    "for line in countDb.iterrows():\n",
    "    timeDiff = line[1]['timestamp'].to_pydatetime() - prevLine['timestamp'].to_pydatetime()\n",
    "    if timeDiff.total_seconds() > 2.1:\n",
    "        newLines.append(json.loads('{\"value\": 0, \"timestamp\": ' + str(line[1]['timestamp'].value / 10**9 - 2) + ', \"messageid\": \"beamOn\"}'))\n",
    "    prevLine = line[1]    \n",
    "    \n",
    "\n",
    "extraDb = pd.DataFrame.from_records(newLines)\n",
    "extraDb['timestamp'] = pd.to_datetime(extraDb['timestamp'],unit='s')\n",
    "df_row = pd.concat([countDb,extraDb])\n",
    "df_row = df_row.sort_values(by='timestamp')\n",
    "\n",
    "\n",
    "plt.figure()\n",
    "#plt.plot(a['timestamp'],a['extTwoSecCounter'])\n",
    "plt.plot(df_row['timestamp'],df_row['value'])\n",
    "plt.show()\n"
   ]
  },
  {
   "cell_type": "code",
   "execution_count": null,
   "metadata": {},
   "outputs": [],
   "source": []
  }
 ],
 "metadata": {
  "kernelspec": {
   "display_name": "Python 3",
   "language": "python",
   "name": "python3"
  },
  "language_info": {
   "codemirror_mode": {
    "name": "ipython",
    "version": 3
   },
   "file_extension": ".py",
   "mimetype": "text/x-python",
   "name": "python",
   "nbconvert_exporter": "python",
   "pygments_lexer": "ipython3",
   "version": "3.7.0"
  }
 },
 "nbformat": 4,
 "nbformat_minor": 2
}
